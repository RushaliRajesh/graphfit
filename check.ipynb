{
 "cells": [
  {
   "cell_type": "code",
   "execution_count": 2,
   "metadata": {},
   "outputs": [],
   "source": [
    "import numpy as np\n",
    "import matplotlib.pyplot as plt\n",
    "import torch\n",
    "import torch.nn.functional as F"
   ]
  },
  {
   "cell_type": "code",
   "execution_count": 12,
   "metadata": {},
   "outputs": [
    {
     "name": "stdout",
     "output_type": "stream",
     "text": [
      "/media/ashish/zoneD/AdaFit/data/pcpnet/testset_no_noise.txt\n",
      "19 total pcds\n",
      "4.720055298457488\n",
      "/media/ashish/zoneD/AdaFit/data/pcpnet/testset_low_noise.txt\n",
      "19 total pcds\n",
      "12.235197576328181\n",
      "/media/ashish/zoneD/AdaFit/data/pcpnet/testset_med_noise.txt\n",
      "19 total pcds\n",
      "nan\n",
      "/media/ashish/zoneD/AdaFit/data/pcpnet/testset_high_noise.txt\n",
      "19 total pcds\n",
      "nan\n",
      "/media/ashish/zoneD/AdaFit/data/pcpnet/testset_vardensity_gradient.txt\n",
      "16 total pcds\n",
      "nan\n",
      "/media/ashish/zoneD/AdaFit/data/pcpnet/testset_vardensity_striped.txt\n",
      "16 total pcds\n",
      "nan\n"
     ]
    },
    {
     "name": "stderr",
     "output_type": "stream",
     "text": [
      "/tmp/ipykernel_2600616/421108214.py:52: RuntimeWarning: Mean of empty slice.\n",
      "  print(np.array(rms_list).mean())\n"
     ]
    }
   ],
   "source": [
    "'''final wala'''\n",
    "import os\n",
    "from natsort import natsorted\n",
    "\n",
    "def rms_angular_error(estimated_normals, ground_truth_normals):\n",
    "    estimated_normals = F.normalize(estimated_normals, dim=1)\n",
    "    ground_truth_normals = F.normalize(ground_truth_normals, dim=1)\n",
    "\n",
    "    dot_product = torch.sum(estimated_normals * ground_truth_normals, dim=1)\n",
    "    dot_product = torch.clamp(dot_product, -1.0, 1.0)\n",
    "    dot_product = torch.abs(dot_product)\n",
    "    angular_diff = torch.acos(dot_product) * torch.div(180.0, torch.pi)\n",
    "    squared_diff = angular_diff.pow(2)\n",
    "    mean_squared_diff = torch.mean(squared_diff)\n",
    "    rms_angular_error = torch.sqrt(mean_squared_diff)\n",
    "    return rms_angular_error.item() \n",
    "\n",
    "pred_root = 'log/GraphFit/results_599'\n",
    "gt_root = '/media/ashish/zoneD/AdaFit/data/pcpnet'\n",
    "\n",
    "test_Sets = ['/media/ashish/zoneD/AdaFit/data/pcpnet/testset_no_noise.txt', '/media/ashish/zoneD/AdaFit/data/pcpnet/testset_low_noise.txt', \n",
    "             '/media/ashish/zoneD/AdaFit/data/pcpnet/testset_med_noise.txt','/media/ashish/zoneD/AdaFit/data/pcpnet/testset_high_noise.txt', \n",
    "             '/media/ashish/zoneD/AdaFit/data/pcpnet/testset_vardensity_gradient.txt', '/media/ashish/zoneD/AdaFit/data/pcpnet/testset_vardensity_striped.txt']\n",
    "\n",
    "for testset in test_Sets:\n",
    "        rms_mean = 0\n",
    "        rms_list = []\n",
    "        shapes = []\n",
    "        #read files in pred_root\n",
    "\n",
    "        with open(testset, 'r') as f: \n",
    "                file_content = f.read()\n",
    "                words = file_content.split()\n",
    "                shapes.extend(words)\n",
    "                \n",
    "\n",
    "        for ind,shp in enumerate(shapes[:]):\n",
    "                #check if file exists\n",
    "                if (os.path.exists(os.path.join(pred_root, shp+'.normals')) and os.path.exists(os.path.join(gt_root, shp+'.normals'))):\n",
    "                        # print(os.path.join(pred_root, shp+'.normals'))\n",
    "                        try:\n",
    "                                pred = np.loadtxt(os.path.join(pred_root, shp+'.normals'), encoding='utf-8')\n",
    "                                # Process the loaded data here\n",
    "                        except UnicodeDecodeError:\n",
    "                                print(f\"Skipping file '{os.path.join(pred_root, shp+'.normals')}' due to UnicodeDecodeError.\")\n",
    "                                continue\n",
    "                        gt = np.loadtxt(os.path.join(gt_root, shp+'.normals'))\n",
    "                        # print(os.path.join(pred_root, shp+'.normals'), os.path.join(gt_root, shp+'.normals'))\n",
    "                        rms_list.append(rms_angular_error(torch.tensor(pred), torch.tensor(gt)))\n",
    "        print(testset)\n",
    "        print(ind+1, \"total pcds\")\n",
    "        print(np.array(rms_list).mean())\n"
   ]
  },
  {
   "cell_type": "code",
   "execution_count": 11,
   "metadata": {},
   "outputs": [
    {
     "name": "stdout",
     "output_type": "stream",
     "text": [
      "/media/ashish/zoneD/AdaFit/data/pcpnet/testset_no_noise.txt\n",
      "19 total pcds\n",
      "4.61044504235487\n",
      "/media/ashish/zoneD/AdaFit/data/pcpnet/testset_low_noise.txt\n",
      "19 total pcds\n",
      "12.34819561602133\n",
      "/media/ashish/zoneD/AdaFit/data/pcpnet/testset_med_noise.txt\n",
      "19 total pcds\n",
      "nan\n",
      "/media/ashish/zoneD/AdaFit/data/pcpnet/testset_high_noise.txt\n",
      "19 total pcds\n",
      "nan\n",
      "/media/ashish/zoneD/AdaFit/data/pcpnet/testset_vardensity_gradient.txt\n",
      "16 total pcds\n",
      "nan\n",
      "/media/ashish/zoneD/AdaFit/data/pcpnet/testset_vardensity_striped.txt\n",
      "16 total pcds\n",
      "nan\n"
     ]
    },
    {
     "name": "stderr",
     "output_type": "stream",
     "text": [
      "/tmp/ipykernel_2600616/1180887642.py:52: RuntimeWarning: Mean of empty slice.\n",
      "  print(np.array(rms_list).mean())\n"
     ]
    }
   ],
   "source": [
    "'''final wala'''\n",
    "import os\n",
    "from natsort import natsorted\n",
    "\n",
    "def rms_angular_error(estimated_normals, ground_truth_normals):\n",
    "    estimated_normals = F.normalize(estimated_normals, dim=1)\n",
    "    ground_truth_normals = F.normalize(ground_truth_normals, dim=1)\n",
    "\n",
    "    dot_product = torch.sum(estimated_normals * ground_truth_normals, dim=1)\n",
    "    dot_product = torch.clamp(dot_product, -1.0, 1.0)\n",
    "    dot_product = torch.abs(dot_product)\n",
    "    angular_diff = torch.acos(dot_product) * torch.div(180.0, torch.pi)\n",
    "    squared_diff = angular_diff.pow(2)\n",
    "    mean_squared_diff = torch.mean(squared_diff)\n",
    "    rms_angular_error = torch.sqrt(mean_squared_diff)\n",
    "    return rms_angular_error.item() \n",
    "\n",
    "pred_root = 'modi_sa_nlearn/GraphFit/results_599'\n",
    "gt_root = '/media/ashish/zoneD/AdaFit/data/pcpnet'\n",
    "\n",
    "test_Sets = ['/media/ashish/zoneD/AdaFit/data/pcpnet/testset_no_noise.txt', '/media/ashish/zoneD/AdaFit/data/pcpnet/testset_low_noise.txt', \n",
    "             '/media/ashish/zoneD/AdaFit/data/pcpnet/testset_med_noise.txt','/media/ashish/zoneD/AdaFit/data/pcpnet/testset_high_noise.txt', \n",
    "             '/media/ashish/zoneD/AdaFit/data/pcpnet/testset_vardensity_gradient.txt', '/media/ashish/zoneD/AdaFit/data/pcpnet/testset_vardensity_striped.txt']\n",
    "\n",
    "for testset in test_Sets:\n",
    "        rms_mean = 0\n",
    "        rms_list = []\n",
    "        shapes = []\n",
    "        #read files in pred_root\n",
    "\n",
    "        with open(testset, 'r') as f: \n",
    "                file_content = f.read()\n",
    "                words = file_content.split()\n",
    "                shapes.extend(words)\n",
    "                \n",
    "\n",
    "        for ind,shp in enumerate(shapes[:]):\n",
    "                #check if file exists\n",
    "                if (os.path.exists(os.path.join(pred_root, shp+'.normals')) and os.path.exists(os.path.join(gt_root, shp+'.normals'))):\n",
    "                        # print(os.path.join(pred_root, shp+'.normals'))\n",
    "                        try:\n",
    "                                pred = np.loadtxt(os.path.join(pred_root, shp+'.normals'), encoding='utf-8')\n",
    "                                # Process the loaded data here\n",
    "                        except UnicodeDecodeError:\n",
    "                                print(f\"Skipping file '{os.path.join(pred_root, shp+'.normals')}' due to UnicodeDecodeError.\")\n",
    "                                continue\n",
    "                        gt = np.loadtxt(os.path.join(gt_root, shp+'.normals'))\n",
    "                        # print(os.path.join(pred_root, shp+'.normals'), os.path.join(gt_root, shp+'.normals'))\n",
    "                        rms_list.append(rms_angular_error(torch.tensor(pred), torch.tensor(gt)))\n",
    "        print(testset)\n",
    "        print(ind+1, \"total pcds\")\n",
    "        print(np.array(rms_list).mean())\n"
   ]
  },
  {
   "cell_type": "code",
   "execution_count": null,
   "metadata": {},
   "outputs": [],
   "source": []
  }
 ],
 "metadata": {
  "kernelspec": {
   "display_name": "py39",
   "language": "python",
   "name": "python3"
  },
  "language_info": {
   "codemirror_mode": {
    "name": "ipython",
    "version": 3
   },
   "file_extension": ".py",
   "mimetype": "text/x-python",
   "name": "python",
   "nbconvert_exporter": "python",
   "pygments_lexer": "ipython3",
   "version": "3.9.0"
  }
 },
 "nbformat": 4,
 "nbformat_minor": 2
}
